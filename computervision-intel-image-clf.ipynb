{
 "cells": [
  {
   "cell_type": "markdown",
   "id": "d12495d2",
   "metadata": {
    "papermill": {
     "duration": 0.00292,
     "end_time": "2022-07-20T11:49:07.678876",
     "exception": false,
     "start_time": "2022-07-20T11:49:07.675956",
     "status": "completed"
    },
    "tags": []
   },
   "source": [
    "# Introduction\n",
    "\n",
    "In this notebook, we will build image classification models to classify 6 categories of images; namely buildings, forest, glacier, mountain, sea, and street."
   ]
  },
  {
   "cell_type": "code",
   "execution_count": 1,
   "id": "367aa23c",
   "metadata": {
    "_cell_guid": "b1076dfc-b9ad-4769-8c92-a6c4dae69d19",
    "_uuid": "8f2839f25d086af736a60e9eeb907d3b93b6e0e5",
    "execution": {
     "iopub.execute_input": "2022-07-20T11:49:07.685341Z",
     "iopub.status.busy": "2022-07-20T11:49:07.684927Z",
     "iopub.status.idle": "2022-07-20T11:49:16.928350Z",
     "shell.execute_reply": "2022-07-20T11:49:16.927046Z"
    },
    "papermill": {
     "duration": 9.249723,
     "end_time": "2022-07-20T11:49:16.930975",
     "exception": false,
     "start_time": "2022-07-20T11:49:07.681252",
     "status": "completed"
    },
    "tags": []
   },
   "outputs": [],
   "source": [
    "import numpy as np \n",
    "import pandas as pd \n",
    "import matplotlib.pyplot as plt\n",
    "import seaborn as sns\n",
    "import tensorflow as tf\n",
    "\n",
    "#import os\n",
    "#for dirname, _, filenames in os.walk('/kaggle/input'):\n",
    " #   for filename in filenames:\n",
    "   #     print(os.path.join(dirname, filename))"
   ]
  },
  {
   "cell_type": "markdown",
   "id": "667dcd14",
   "metadata": {
    "papermill": {
     "duration": 0.001761,
     "end_time": "2022-07-20T11:49:16.934922",
     "exception": false,
     "start_time": "2022-07-20T11:49:16.933161",
     "status": "completed"
    },
    "tags": []
   },
   "source": [
    "# 1. Label and load the dataset"
   ]
  },
  {
   "cell_type": "code",
   "execution_count": 2,
   "id": "f02e170b",
   "metadata": {
    "execution": {
     "iopub.execute_input": "2022-07-20T11:49:16.940580Z",
     "iopub.status.busy": "2022-07-20T11:49:16.939957Z",
     "iopub.status.idle": "2022-07-20T11:49:16.944872Z",
     "shell.execute_reply": "2022-07-20T11:49:16.943791Z"
    },
    "papermill": {
     "duration": 0.010193,
     "end_time": "2022-07-20T11:49:16.947011",
     "exception": false,
     "start_time": "2022-07-20T11:49:16.936818",
     "status": "completed"
    },
    "tags": []
   },
   "outputs": [],
   "source": [
    "train_dir = '../input/intel-image-classification/seg_train/seg_train'\n",
    "test_dir = '../input/input-image-classification/seg_test/seg_test'\n",
    "pred_dir = '../input/input-image-classification/seg_pred/seg_pred'"
   ]
  },
  {
   "cell_type": "code",
   "execution_count": 3,
   "id": "e34ee9f3",
   "metadata": {
    "execution": {
     "iopub.execute_input": "2022-07-20T11:49:16.952469Z",
     "iopub.status.busy": "2022-07-20T11:49:16.952115Z",
     "iopub.status.idle": "2022-07-20T11:49:16.958430Z",
     "shell.execute_reply": "2022-07-20T11:49:16.957189Z"
    },
    "papermill": {
     "duration": 0.012715,
     "end_time": "2022-07-20T11:49:16.961738",
     "exception": false,
     "start_time": "2022-07-20T11:49:16.949023",
     "status": "completed"
    },
    "tags": []
   },
   "outputs": [
    {
     "name": "stdout",
     "output_type": "stream",
     "text": [
      "{'buildings': 0, 'forest': 1, 'glacier': 2, 'mountain': 3, 'sea': 4, 'street': 5}\n"
     ]
    }
   ],
   "source": [
    "class_names = ['buildings','forest','glacier','mountain','sea','street']\n",
    "class_labels = {class_name:i for i, class_name in enumerate(class_names)}\n",
    "print(class_labels)\n",
    "\n",
    "number_classes = len(class_names)\n",
    "\n",
    "IMAGE_SIZE = (150,150)"
   ]
  },
  {
   "cell_type": "markdown",
   "id": "dda1229f",
   "metadata": {
    "papermill": {
     "duration": 0.001946,
     "end_time": "2022-07-20T11:49:16.966996",
     "exception": false,
     "start_time": "2022-07-20T11:49:16.965050",
     "status": "completed"
    },
    "tags": []
   },
   "source": [
    "load the dataset\n",
    "\n",
    "label the dataset\n",
    "\n",
    "visualize the dataset\n",
    "\n",
    "train the simple Neural net\n",
    "\n",
    "train using pre-trained models from keras"
   ]
  },
  {
   "cell_type": "code",
   "execution_count": null,
   "id": "0ba7032b",
   "metadata": {
    "papermill": {
     "duration": 0.002027,
     "end_time": "2022-07-20T11:49:16.971063",
     "exception": false,
     "start_time": "2022-07-20T11:49:16.969036",
     "status": "completed"
    },
    "tags": []
   },
   "outputs": [],
   "source": []
  }
 ],
 "metadata": {
  "kernelspec": {
   "display_name": "Python 3",
   "language": "python",
   "name": "python3"
  },
  "language_info": {
   "codemirror_mode": {
    "name": "ipython",
    "version": 3
   },
   "file_extension": ".py",
   "mimetype": "text/x-python",
   "name": "python",
   "nbconvert_exporter": "python",
   "pygments_lexer": "ipython3",
   "version": "3.7.12"
  },
  "papermill": {
   "default_parameters": {},
   "duration": 21.520587,
   "end_time": "2022-07-20T11:49:20.514700",
   "environment_variables": {},
   "exception": null,
   "input_path": "__notebook__.ipynb",
   "output_path": "__notebook__.ipynb",
   "parameters": {},
   "start_time": "2022-07-20T11:48:58.994113",
   "version": "2.3.4"
  }
 },
 "nbformat": 4,
 "nbformat_minor": 5
}
